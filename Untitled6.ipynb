{
  "nbformat": 4,
  "nbformat_minor": 0,
  "metadata": {
    "colab": {
      "name": "Untitled6.ipynb",
      "provenance": [],
      "authorship_tag": "ABX9TyMKZp9xRZPfkR1Vof4+r98+",
      "include_colab_link": true
    },
    "kernelspec": {
      "name": "python3",
      "display_name": "Python 3"
    },
    "language_info": {
      "name": "python"
    }
  },
  "cells": [
    {
      "cell_type": "markdown",
      "metadata": {
        "id": "view-in-github",
        "colab_type": "text"
      },
      "source": [
        "<a href=\"https://colab.research.google.com/github/Mahediali1562/C-C-Programs/blob/main/Untitled6.ipynb\" target=\"_parent\"><img src=\"https://colab.research.google.com/assets/colab-badge.svg\" alt=\"Open In Colab\"/></a>"
      ]
    },
    {
      "cell_type": "code",
      "execution_count": 3,
      "metadata": {
        "id": "harAszXdBZna"
      },
      "outputs": [],
      "source": [
        "import numpy as np\n",
        "from scipy import stats\n",
        "\n",
        "class BayesLinReg:\n",
        "\n",
        "    def __init__(self, n_features, alpha, beta):\n",
        "        self.n_features = n_features\n",
        "        self.alpha = alpha\n",
        "        self.beta = beta\n",
        "        self.mean = np.zeros(n_features)\n",
        "        self.cov_inv = np.identity(n_features) / alpha\n",
        "\n",
        "    def learn(self, x, y):\n",
        "\n",
        "        # Update the inverse covariance matrix (Bishop eq. 3.51)\n",
        "        cov_inv = self.cov_inv + self.beta * np.outer(x, x)\n",
        "\n",
        "        # Update the mean vector (Bishop eq. 3.50)\n",
        "        cov = np.linalg.inv(cov_inv)\n",
        "        mean = cov @ (self.cov_inv @ self.mean + self.beta * y * x)\n",
        "\n",
        "        self.cov_inv = cov_inv\n",
        "        self.mean = mean\n",
        "\n",
        "        return self\n",
        "\n",
        "    def predict(self, x):\n",
        "\n",
        "        # Obtain the predictive mean (Bishop eq. 3.58)\n",
        "        y_pred_mean = x @ self.mean\n",
        "\n",
        "        # Obtain the predictive variance (Bishop eq. 3.59)\n",
        "        w_cov = np.linalg.inv(self.cov_inv)\n",
        "        y_pred_var = 1 / self.beta + x @ w_cov @ x.T\n",
        "\n",
        "        return stats.norm(loc=y_pred_mean, scale=y_pred_var ** .5)\n",
        "\n",
        "    @property\n",
        "    def weights_dist(self):\n",
        "        cov = np.linalg.inv(self.cov_inv)\n",
        "        return stats.multivariate_normal(mean=self.mean, cov=cov)"
      ]
    },
    {
      "cell_type": "code",
      "source": [
        ""
      ],
      "metadata": {
        "colab": {
          "base_uri": "https://localhost:8080/",
          "height": 165
        },
        "id": "YKz1mJaqBbHB",
        "outputId": "6972e01d-5839-48e0-ad8e-f3c23a548ca0"
      },
      "execution_count": 4,
      "outputs": [
        {
          "output_type": "error",
          "ename": "NameError",
          "evalue": "ignored",
          "traceback": [
            "\u001b[0;31m---------------------------------------------------------------------------\u001b[0m",
            "\u001b[0;31mNameError\u001b[0m                                 Traceback (most recent call last)",
            "\u001b[0;32m<ipython-input-4-0039f3f378e9>\u001b[0m in \u001b[0;36m<module>\u001b[0;34m()\u001b[0m\n\u001b[0;32m----> 1\u001b[0;31m \u001b[0max\u001b[0m\u001b[0;34m.\u001b[0m\u001b[0mplot\u001b[0m\u001b[0;34m(\u001b[0m\u001b[0mw\u001b[0m\u001b[0;34m,\u001b[0m \u001b[0;34m[\u001b[0m\u001b[0mnp\u001b[0m\u001b[0;34m.\u001b[0m\u001b[0mdot\u001b[0m\u001b[0;34m(\u001b[0m\u001b[0mweights\u001b[0m\u001b[0;34m,\u001b[0m \u001b[0;34m[\u001b[0m\u001b[0;36m1\u001b[0m\u001b[0;34m,\u001b[0m \u001b[0mxi\u001b[0m\u001b[0;34m]\u001b[0m\u001b[0;34m)\u001b[0m \u001b[0;32mfor\u001b[0m \u001b[0mxi\u001b[0m \u001b[0;32min\u001b[0m \u001b[0mw\u001b[0m\u001b[0;34m]\u001b[0m\u001b[0;34m,\u001b[0m \u001b[0mcolor\u001b[0m\u001b[0;34m=\u001b[0m\u001b[0;34m'red'\u001b[0m\u001b[0;34m)\u001b[0m\u001b[0;34m\u001b[0m\u001b[0;34m\u001b[0m\u001b[0m\n\u001b[0m",
            "\u001b[0;31mNameError\u001b[0m: name 'ax' is not defined"
          ]
        }
      ]
    }
  ]
}